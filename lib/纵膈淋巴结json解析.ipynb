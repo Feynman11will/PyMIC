{
 "cells": [
  {
   "cell_type": "code",
   "execution_count": 1,
   "metadata": {},
   "outputs": [],
   "source": [
    "import json"
   ]
  },
  {
   "cell_type": "code",
   "execution_count": 2,
   "metadata": {},
   "outputs": [
    {
     "ename": "FileNotFoundError",
     "evalue": "[Errno 2] No such file or directory: '/Users/zhaolun/Documents/组学平台/bugs/task_10493_0.json'",
     "output_type": "error",
     "traceback": [
      "\u001b[0;31m---------------------------------------------------------------------------\u001b[0m",
      "\u001b[0;31mFileNotFoundError\u001b[0m                         Traceback (most recent call last)",
      "\u001b[0;32m<ipython-input-2-f67e5abe14a2>\u001b[0m in \u001b[0;36m<module>\u001b[0;34m\u001b[0m\n\u001b[1;32m      1\u001b[0m \u001b[0manno_json\u001b[0m \u001b[0;34m=\u001b[0m \u001b[0;34m'/Users/zhaolun/Documents/组学平台/bugs/task_10493_0.json'\u001b[0m\u001b[0;34m\u001b[0m\u001b[0;34m\u001b[0m\u001b[0m\n\u001b[0;32m----> 2\u001b[0;31m \u001b[0manno_json\u001b[0m \u001b[0;34m=\u001b[0m \u001b[0mjson\u001b[0m\u001b[0;34m.\u001b[0m\u001b[0mload\u001b[0m\u001b[0;34m(\u001b[0m\u001b[0mopen\u001b[0m\u001b[0;34m(\u001b[0m\u001b[0manno_json\u001b[0m\u001b[0;34m,\u001b[0m \u001b[0;34m'r'\u001b[0m\u001b[0;34m)\u001b[0m\u001b[0;34m)\u001b[0m\u001b[0;34m\u001b[0m\u001b[0;34m\u001b[0m\u001b[0m\n\u001b[0m",
      "\u001b[0;31mFileNotFoundError\u001b[0m: [Errno 2] No such file or directory: '/Users/zhaolun/Documents/组学平台/bugs/task_10493_0.json'"
     ]
    }
   ],
   "source": [
    "anno_json = '/Users/zhaolun/Documents/组学平台/bugs/task_10493_0.json'\n",
    "anno_json = json.load(open(anno_json, 'r'))"
   ]
  },
  {
   "cell_type": "code",
   "execution_count": null,
   "metadata": {
    "scrolled": false
   },
   "outputs": [],
   "source": [
    "len(anno_json)"
   ]
  },
  {
   "cell_type": "code",
   "execution_count": null,
   "metadata": {},
   "outputs": [],
   "source": [
    "anno = anno_json[2]\n",
    "print(anno['nodes'][0])"
   ]
  },
  {
   "cell_type": "code",
   "execution_count": null,
   "metadata": {},
   "outputs": [],
   "source": [
    "data_dir = '/Users/zhaolun/Documents/组学平台/bugs'"
   ]
  },
  {
   "cell_type": "code",
   "execution_count": null,
   "metadata": {},
   "outputs": [],
   "source": [
    "import os\n",
    "import SimpleITK as sitk\n",
    "import numpy as np\n",
    "import pydicom as dicom\n",
    "import cv2\n",
    "import matplotlib.pyplot as plt\n",
    "%matplotlib inline\n",
    "from skimage import measure\n",
    "\n",
    "def draw_anno_3d(img_fn, anno, title = '', img_dir = None):\n",
    "    img, dcm_files = read_dicom(img_fn, sort = True)\n",
    "\n",
    "    img_arr = sitk.GetArrayFromImage(img)\n",
    "    mask_arr = np.zeros_like(img_arr)\n",
    "\n",
    "    for i, node in enumerate(anno['nodes']):\n",
    "        rois = node[\"rois\"]\n",
    "        for roi in rois:\n",
    "            slice_index = roi['slice_index'] -1\n",
    "            points = roi['edge']\n",
    "            for j in range(len(points)):\n",
    "                points[j][0] = int(round(points[j][0]))\n",
    "                points[j][1] = int(round(points[j][1]))\n",
    "            points = np.array(points)\n",
    "            cv2.drawContours(mask_arr[slice_index], (points,), -1, 1, thickness=-1)\n",
    "    if img_dir:\n",
    "        if mask_arr.sum() > 0:\n",
    "            show_img_mask(img_arr, mask_arr, title, img_dir)\n",
    "    return img_arr, mask_arr\n",
    "\n",
    "def read_dicom(dicom_path, sort = True):\n",
    "    if os.path.isfile(dicom_path):\n",
    "        return sitk.ReadImage(dicom_path), dicom_path\n",
    "    reader = sitk.ImageSeriesReader()\n",
    "    dcm_files = list(reader.GetGDCMSeriesFileNames(dicom_path))\n",
    "    if sort:\n",
    "        dcm_files.sort(key = lambda x: dicom.read_file(x).InstanceNumber)\n",
    "\n",
    "    reader.SetFileNames(dcm_files)\n",
    "    img = reader.Execute()\n",
    "\n",
    "    return img, dcm_files\n",
    "\n",
    "def lumTrans(img, low = -600, high = 600, scale = 255):\n",
    "    lungwin = np.array([low * 1., high * 1.])\n",
    "    newimg = (img-lungwin[0])/(lungwin[1]-lungwin[0])\n",
    "    newimg[newimg<0]=0\n",
    "    newimg[newimg>1]=1\n",
    "    newimg = (newimg*scale).astype('float32')\n",
    "    return newimg"
   ]
  },
  {
   "cell_type": "code",
   "execution_count": null,
   "metadata": {},
   "outputs": [],
   "source": [
    "img_fn = anno['other_info']['dataPath']\n",
    "img_fn = img_fn.replace('/data/disk2/mediastinum/tjmu/lymph_node_enlargement', data_dir)\n",
    "\n",
    "print(os.path.isdir(img_fn), img_fn)"
   ]
  },
  {
   "cell_type": "code",
   "execution_count": null,
   "metadata": {},
   "outputs": [],
   "source": [
    "img_arr, mask_arr = draw_anno_3d(img_fn, anno)"
   ]
  },
  {
   "cell_type": "code",
   "execution_count": null,
   "metadata": {},
   "outputs": [],
   "source": [
    "img_arr = lumTrans(img_arr, -250, 250)"
   ]
  },
  {
   "cell_type": "code",
   "execution_count": null,
   "metadata": {
    "scrolled": false
   },
   "outputs": [],
   "source": [
    "arrlist = []\n",
    "for i in range(len(img_arr)):\n",
    "    if mask_arr[i].max() > 0:\n",
    "        fig, ax = plt.subplots(1,2, figsize = (16, 8))\n",
    "        ax[0].imshow(img_arr[i], 'gray')\n",
    "        contours = measure.find_contours(mask_arr[i], 0)\n",
    "        for n, contour in enumerate(contours):\n",
    "            ax[0].plot(contour[:, 1], contour[:, 0], linewidth=1)\n",
    "        ax[1].imshow(mask_arr[i])\n",
    "        arrlist.append(i)\n",
    "        plt.show()\n",
    "        plt.close()"
   ]
  },
  {
   "cell_type": "code",
   "execution_count": null,
   "metadata": {},
   "outputs": [],
   "source": []
  }
 ],
 "metadata": {
  "kernelspec": {
   "display_name": "Python 3",
   "language": "python",
   "name": "python3"
  },
  "language_info": {
   "codemirror_mode": {
    "name": "ipython",
    "version": 3
   },
   "file_extension": ".py",
   "mimetype": "text/x-python",
   "name": "python",
   "nbconvert_exporter": "python",
   "pygments_lexer": "ipython3",
   "version": "3.6.8"
  },
  "pycharm": {
   "stem_cell": {
    "cell_type": "raw",
    "source": [],
    "metadata": {
     "collapsed": false
    }
   }
  }
 },
 "nbformat": 4,
 "nbformat_minor": 2
}